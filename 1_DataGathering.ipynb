{
  "nbformat": 4,
  "nbformat_minor": 0,
  "metadata": {
    "colab": {
      "name": "StockPrediction.ipynb",
      "provenance": [],
      "collapsed_sections": [],
      "toc_visible": true
    },
    "kernelspec": {
      "name": "python3",
      "display_name": "Python 3"
    },
    "language_info": {
      "name": "python"
    }
  },
  "cells": [
    {
      "cell_type": "code",
      "metadata": {
        "id": "bscMBar5sMU5"
      },
      "source": [
        "!pip install tweepy\n",
        "!pip install yfinance\n",
        "!pip install pandas-datareader>=0.7\n",
        "!pip install snscrape\n",
        "!pip install yahoo-historical\n",
        "!pip install category-encoders"
      ],
      "execution_count": null,
      "outputs": []
    },
    {
      "cell_type": "markdown",
      "metadata": {
        "id": "3lm-Ucq44Yjs"
      },
      "source": [
        "## Imports & API Setup"
      ]
    },
    {
      "cell_type": "code",
      "metadata": {
        "id": "GfupbAlHp8_A"
      },
      "source": [
        "import numpy as np\n",
        "import pandas as pd\n",
        "import snscrape.modules.twitter as sntwitter\n",
        "import tweepy, csv, random, datetime, itertools, re\n",
        "import matplotlib.pyplot as mlpt\n",
        "from nltk.classify import NaiveBayesClassifier\n",
        "from nltk.corpus import subjectivity\n",
        "from nltk.sentiment import SentimentAnalyzer\n",
        "from nltk.sentiment.util import *\n",
        "from pandas_datareader import data as pdr\n",
        "from datetime import date, datetime, timedelta\n",
        "import yfinance as yf\n",
        "\n",
        "yf.pdr_override()\n",
        "pd.set_option('display.max_columns', None)"
      ],
      "execution_count": null,
      "outputs": []
    },
    {
      "cell_type": "code",
      "metadata": {
        "id": "Rh8uH5E4qCP5"
      },
      "source": [
        "CONSUMER_KEY    = '3jmA1BqasLHfItBXj3KnAIGFB'\n",
        "CONSUMER_SECRET = 'imyEeVTctFZuK62QHmL1I0AUAMudg5HKJDfkx0oR7oFbFinbvA'\n",
        "ACCESS_TOKEN  = '265857263-pF1DRxgIcxUbxEEFtLwLODPzD3aMl6d4zOKlMnme'\n",
        "ACCESS_TOKEN_SECRET = 'uUFoOOGeNJfOYD3atlcmPtaxxniXxQzAU4ESJLopA1lbC'\n",
        "\n",
        "auth = tweepy.OAuthHandler(CONSUMER_KEY, CONSUMER_SECRET)\n",
        "auth.set_access_token(ACCESS_TOKEN, ACCESS_TOKEN_SECRET)\n",
        "api = tweepy.API(auth, wait_on_rate_limit=True)"
      ],
      "execution_count": null,
      "outputs": []
    },
    {
      "cell_type": "code",
      "metadata": {
        "id": "dLrqLlXFcLVW"
      },
      "source": [
        "# Helpers\n",
        "def Merge2(dict1, dict2):\n",
        "  res = {**dict1, **dict2}\n",
        "  return res\n",
        "  \n",
        "def Merge3(dict1, dict2, dict3):\n",
        "  res = {**dict1, **dict2, **dict3}\n",
        "  return res\n",
        "\n",
        "def findWholeWord(s, w):\n",
        "  return (' ' + w + ' ') in (' ' + s + ' ')"
      ],
      "execution_count": null,
      "outputs": []
    },
    {
      "cell_type": "markdown",
      "metadata": {
        "id": "5kOJBB32L5N5"
      },
      "source": [
        "## Yahoo Finance Data Fetch"
      ]
    },
    {
      "cell_type": "code",
      "metadata": {
        "colab": {
          "base_uri": "https://localhost:8080/"
        },
        "id": "PkeYu699McDE",
        "outputId": "d8d9f99c-baf0-4585-bd0d-ecf95e7c79c4"
      },
      "source": [
        "def getDataFromYahoo(stock, date):\n",
        "  dateObj = datetime.strptime(date, '%Y-%m-%d')\n",
        "  lower = dateObj.strftime(\"%Y-%m-%d\")\n",
        "  higher = (dateObj + timedelta(days=1)).strftime(\"%Y-%m-%d\")\n",
        "  stockData = pdr.get_data_yahoo(tickers=stock, start=lower, end=higher)\n",
        "  res = {}\n",
        "  if len(stockData) > 0:\n",
        "    res['Open'] = stockData.iloc[0]['Open']\n",
        "    res['High'] = stockData.iloc[0]['High']\n",
        "    res['Low'] = stockData.iloc[0]['Low']\n",
        "    res['Close'] = stockData.iloc[0]['Close']\n",
        "    res['Adj Close'] = stockData.iloc[0]['Adj Close']\n",
        "    res['Volume'] = stockData.iloc[0]['Volume']\n",
        "  return res\n",
        "\n",
        "# Test data\n",
        "print(getDataFromYahoo('goog', '2021-01-04'))\n",
        "print(getDataFromYahoo('aapl', '2021-01-04'))\n",
        "print(getDataFromYahoo('tsla', '2021-01-04'))\n",
        "print(getDataFromYahoo('fb', '2021-01-04'))\n"
      ],
      "execution_count": null,
      "outputs": [
        {
          "output_type": "stream",
          "text": [
            "\r[*********************100%***********************]  1 of 1 completed\n",
            "{'Open': 1757.5400390625, 'High': 1760.6500244140625, 'Low': 1707.8499755859375, 'Close': 1728.239990234375, 'Adj Close': 1728.239990234375, 'Volume': 1901900.0}\n",
            "[*********************100%***********************]  1 of 1 completed\n",
            "{'Open': 133.52000427246094, 'High': 133.61000061035156, 'Low': 126.76000213623047, 'Close': 129.41000366210938, 'Adj Close': 129.2169189453125, 'Volume': 143301900.0}\n",
            "[*********************100%***********************]  1 of 1 completed\n",
            "{'Open': 719.4600219726562, 'High': 744.489990234375, 'Low': 717.1900024414062, 'Close': 729.77001953125, 'Adj Close': 729.77001953125, 'Volume': 48638200.0}\n",
            "[*********************100%***********************]  1 of 1 completed\n",
            "{'Open': 274.7799987792969, 'High': 275.0, 'Low': 265.20001220703125, 'Close': 268.94000244140625, 'Adj Close': 268.94000244140625, 'Volume': 15106100.0}\n"
          ],
          "name": "stdout"
        }
      ]
    },
    {
      "cell_type": "code",
      "metadata": {
        "id": "2TjvQLudjZsj",
        "colab": {
          "base_uri": "https://localhost:8080/"
        },
        "outputId": "419cd28e-2804-4a08-ef4c-aadcf4cd085a"
      },
      "source": [
        "from yahoo_historical import Fetcher\n",
        "\n",
        "stock = 'FB'\n",
        "data = Fetcher(stock, [2019,1,1], [2020,1,1]).get_historical()\n",
        "data['stock'] = stock\n",
        "data.to_csv(stock + '.csv')\n",
        "print(data)"
      ],
      "execution_count": null,
      "outputs": [
        {
          "output_type": "stream",
          "text": [
            "           Date        Open        High         Low       Close   Adj Close  \\\n",
            "0    2019-01-02  128.990005  137.509995  128.559998  135.679993  135.679993   \n",
            "1    2019-01-03  134.690002  137.169998  131.119995  131.740005  131.740005   \n",
            "2    2019-01-04  134.009995  138.000000  133.750000  137.949997  137.949997   \n",
            "3    2019-01-07  137.559998  138.869995  135.910004  138.050003  138.050003   \n",
            "4    2019-01-08  139.889999  143.139999  139.539993  142.529999  142.529999   \n",
            "..          ...         ...         ...         ...         ...         ...   \n",
            "247  2019-12-24  206.300003  206.789993  205.000000  205.119995  205.119995   \n",
            "248  2019-12-26  205.570007  207.820007  205.309998  207.789993  207.789993   \n",
            "249  2019-12-27  208.669998  208.929993  206.589996  208.100006  208.100006   \n",
            "250  2019-12-30  207.860001  207.899994  203.899994  204.410004  204.410004   \n",
            "251  2019-12-31  204.000000  205.559998  203.600006  205.250000  205.250000   \n",
            "\n",
            "       Volume stock  \n",
            "0    28146200    FB  \n",
            "1    22717900    FB  \n",
            "2    29002100    FB  \n",
            "3    20089300    FB  \n",
            "4    26263800    FB  \n",
            "..        ...   ...  \n",
            "247   6046300    FB  \n",
            "248   9350700    FB  \n",
            "249  10284200    FB  \n",
            "250  10524300    FB  \n",
            "251   8953500    FB  \n",
            "\n",
            "[252 rows x 8 columns]\n"
          ],
          "name": "stdout"
        }
      ]
    },
    {
      "cell_type": "code",
      "metadata": {
        "id": "i16zZpNa7OqP"
      },
      "source": [
        "from yahoo_historical import Fetcher\n",
        "\n",
        "# stock = 'FB'\n",
        "# data = Fetcher(stock, [2019,1,1], [2020,1,1]).get_historical()\n",
        "# data['stock'] = stock\n",
        "# print(data)\n",
        "\n",
        "chosen_stocks = pd.read_csv ('stock_tickers.csv', sep=r'\\s*,\\s*', header=0)\n",
        "stock_names = chosen_stocks['ticker'].tolist()\n",
        "dataframes = []\n",
        "for stock in stock_names:\n",
        "  try:\n",
        "    data = Fetcher(stock, [2019,1,1], [2020,1,1]).get_historical()\n",
        "    data['stock'] = stock\n",
        "    dataframes.append(data)\n",
        "  except:\n",
        "    pass\n",
        "\n",
        "data = pd.concat(dataframes)\n",
        "data.to_csv('stock_price.csv')"
      ],
      "execution_count": null,
      "outputs": []
    },
    {
      "cell_type": "markdown",
      "metadata": {
        "id": "lWcJXhN7zJJc"
      },
      "source": [
        "## Sentiment Analysis"
      ]
    },
    {
      "cell_type": "code",
      "metadata": {
        "id": "CeOPU5-rzRcG",
        "colab": {
          "base_uri": "https://localhost:8080/"
        },
        "outputId": "d5a5d3bc-2b50-4363-9eff-864735ccf345"
      },
      "source": [
        "import nltk\n",
        "nltk.download('vader_lexicon')\n",
        "from nltk.sentiment.vader import SentimentIntensityAnalyzer\n",
        "from nltk.sentiment.vader import SentimentIntensityAnalyzer\n",
        "import unicodedata\n",
        "\n",
        "sentiment_intensity_analyzer = SentimentIntensityAnalyzer()"
      ],
      "execution_count": null,
      "outputs": [
        {
          "output_type": "stream",
          "text": [
            "[nltk_data] Downloading package vader_lexicon to /root/nltk_data...\n",
            "[nltk_data]   Package vader_lexicon is already up-to-date!\n"
          ],
          "name": "stdout"
        }
      ]
    },
    {
      "cell_type": "code",
      "metadata": {
        "colab": {
          "base_uri": "https://localhost:8080/"
        },
        "id": "zhI2AhR1zErp",
        "outputId": "344ebdba-6951-4ed4-9d30-031c03255516"
      },
      "source": [
        "def performSentimentAnalysis(sentence):\n",
        "  res = {}\n",
        "  sentiment = sentiment_intensity_analyzer.polarity_scores(sentence)\n",
        "  res['Compound'] = sentiment['compound']\n",
        "  res['Negative'] = sentiment['neg']\n",
        "  res['Neutral'] = sentiment['neu']\n",
        "  res['Positive'] = sentiment['pos']\n",
        "  return res\n",
        "\n",
        "print(performSentimentAnalysis('Die you fucking asshole!'))\n",
        "print(performSentimentAnalysis('I love you, stay awesome!'))\n",
        "print(performSentimentAnalysis('This is so sad I wish this had never happened'))\n",
        "print(performSentimentAnalysis('Dogecoin to the moon'))\n",
        "print(performSentimentAnalysis('Cardano sucks, I am moving to Binance'))\n",
        "print(performSentimentAnalysis('I hate this'))\n",
        "print(performSentimentAnalysis('I HATE THIS'))\n",
        "print(performSentimentAnalysis('I HATE THIS!!!!'))"
      ],
      "execution_count": null,
      "outputs": [
        {
          "output_type": "stream",
          "text": [
            "{'Compound': -0.636, 'Negative': 0.583, 'Neutral': 0.417, 'Positive': 0.0}\n",
            "{'Compound': 0.8622, 'Negative': 0.0, 'Neutral': 0.189, 'Positive': 0.811}\n",
            "{'Compound': -0.253, 'Negative': 0.286, 'Neutral': 0.501, 'Positive': 0.213}\n",
            "{'Compound': 0.0, 'Negative': 0.0, 'Neutral': 1.0, 'Positive': 0.0}\n",
            "{'Compound': -0.3612, 'Negative': 0.333, 'Neutral': 0.667, 'Positive': 0.0}\n",
            "{'Compound': -0.5719, 'Negative': 0.787, 'Neutral': 0.213, 'Positive': 0.0}\n",
            "{'Compound': -0.5719, 'Negative': 0.787, 'Neutral': 0.213, 'Positive': 0.0}\n",
            "{'Compound': -0.7067, 'Negative': 0.83, 'Neutral': 0.17, 'Positive': 0.0}\n"
          ],
          "name": "stdout"
        }
      ]
    },
    {
      "cell_type": "markdown",
      "metadata": {
        "id": "yNDfNkqHsoWm"
      },
      "source": [
        "## Fetch all tweets from specified users (Old way)\n",
        "\n",
        "Require stock_tickers.csv file from https://s3-ap-southeast-1.amazonaws.com/he-public-data/stock%20tickers251073e.csv"
      ]
    },
    {
      "cell_type": "code",
      "metadata": {
        "id": "gtXW5STasSVa"
      },
      "source": [
        "users = ['MarketWatch', 'business', 'YahooFinance', 'TechCrunch', 'WSJ', 'Forbes',\n",
        "         'FT', 'TheEconomist', 'nytimes', 'Reuters', 'GerberKawasaki', 'jimcramer',\n",
        "         'TheStreet', 'TheStalwart', 'TruthGundlach', 'CarlCIcahn', 'ReformedBroker',\n",
        "         'benbernanke', 'bespokeinvest', 'BespokeCrypto', 'stlouisfed', 'federalreserve',\n",
        "         'GoldmanSachs', 'ianbremmer', 'MorganStanley', 'AswathDamodaran', 'mcuban',\n",
        "         'muddywatersre', 'StockTwits', 'SeanaNSmith']\n",
        "\n",
        "for username in users:\n",
        "  fetch_tweets = tweepy.Cursor(api.user_timeline, screen_name=username,\n",
        "                              lang =\"en\", tweet_mode=\"extended\").items()\n",
        "  data = pd.DataFrame(data=[[tweet_info.created_at.date(),\n",
        "                             re.sub('[^ a-zA-Z0-9]', '', tweet_info.full_text),\n",
        "                             username] \n",
        "                            for tweet_info in fetch_tweets], columns=['Date', 'Tweets', 'Username'])\n",
        "  data.to_csv(\"Tweets_\" + username + \".csv\")"
      ],
      "execution_count": null,
      "outputs": []
    },
    {
      "cell_type": "code",
      "metadata": {
        "id": "pjndZ3idz6to"
      },
      "source": [
        "chosen_stocks = pd.read_csv ('stock_tickers.csv', sep=r'\\s*,\\s*', header=0)\n",
        "stock_names = chosen_stocks['name'].tolist()\n",
        "for i in range(len(stock_names)):\n",
        "  stock_names[i] = stock_names[i].lower()\n",
        "\n",
        "data = pd.concat([pd.read_csv('Tweets_' + user + '.csv') for user in users ])\n",
        "final_data = pd.DataFrame(columns=['Date', 'Tweets', 'Username', 'FollowersCount', 'Stock'])\n",
        "for row in data.itertuples():\n",
        "  tweet_content = str(row.Tweets).lower()\n",
        "  stock_found = False\n",
        "  i = 0\n",
        "  for stock in stock_names:\n",
        "    if findWholeWord(tweet_content, stock) or findWholeWord(tweet_content, chosen_stocks.iloc[i]['ticker']):\n",
        "      stock_found = True\n",
        "      break\n",
        "    i = i + 1\n",
        "  if stock_found is False:\n",
        "    continue\n",
        "\n",
        "  day_val = getDataFromYahoo(chosen_stocks.iloc[i]['ticker'], row.Date)\n",
        "  if len(day_val) == 0:\n",
        "    continue\n",
        "  sentiment_val = performSentimentAnalysis(row.Tweets)\n",
        "  followers_count = api.get_user(row.Username).followers_count\n",
        "  final_data = final_data.append(Merge3(day_val, sentiment_val,\n",
        "                                                {'Date': row.Date,\n",
        "                                                 'Tweets': row.Tweets,\n",
        "                                                 'Username': row.Username,\n",
        "                                                 'FollowersCount': followers_count,\n",
        "                                                 'Stock': chosen_stocks.iloc[i]['ticker']}),\n",
        "                                 ignore_index=True)\n",
        "final_data.to_csv(\"Data.csv\")"
      ],
      "execution_count": null,
      "outputs": []
    },
    {
      "cell_type": "markdown",
      "metadata": {
        "id": "7tddHp0tEr72"
      },
      "source": [
        "## Fetch all tweets in 2019 from specified users (New way)\n"
      ]
    },
    {
      "cell_type": "code",
      "metadata": {
        "id": "a1kB6TOv22Fe"
      },
      "source": [
        "users = ['MarketWatch', 'business', 'YahooFinance', 'TechCrunch', 'WSJ', 'Forbes',\n",
        "         'FT', 'TheEconomist', 'nytimes', 'Reuters', 'GerberKawasaki', 'jimcramer',\n",
        "         'TheStreet', 'TheStalwart', 'TruthGundlach', 'CarlCIcahn', 'ReformedBroker',\n",
        "         'benbernanke', 'bespokeinvest', 'BespokeCrypto', 'stlouisfed', 'federalreserve',\n",
        "         'GoldmanSachs', 'ianbremmer', 'MorganStanley', 'AswathDamodaran', 'mcuban',\n",
        "         'muddywatersre', 'StockTwits', 'SeanaNSmith']"
      ],
      "execution_count": null,
      "outputs": []
    },
    {
      "cell_type": "code",
      "metadata": {
        "id": "M7kqqkcVErGd"
      },
      "source": [
        "def fetch_tweets(username):\n",
        "    scraped_tweets = sntwitter.TwitterUserScraper(username).get_items()\n",
        "    df = pd.DataFrame(scraped_tweets)[['date', 'content']]\n",
        "    df = df[(df['date'] > '2019-1-1') & (df['date'] <= '2019-12-31')]\n",
        "    df.to_csv('Tweets/' + username + '.csv')\n",
        "\n",
        "for user in users:\n",
        "  fetch_tweets(user)"
      ],
      "execution_count": null,
      "outputs": []
    },
    {
      "cell_type": "code",
      "metadata": {
        "id": "GywO5TmlLOg8",
        "colab": {
          "base_uri": "https://localhost:8080/"
        },
        "outputId": "b2fc84f4-cddf-444e-fd83-f620397f3ae2"
      },
      "source": [
        "chosen_stocks = pd.read_csv ('stock_tickers.csv', sep=r'\\s*,\\s*', header=0)\n",
        "\n",
        "dataframes = []\n",
        "for user in users:\n",
        "  df = pd.read_csv('Tweets/' + user + '.csv')\n",
        "\n",
        "  df['date'] = pd.to_datetime(df[\"date\"]).dt.strftime('%Y-%m-%d')\n",
        "  df['content'] = ' ' + df['content'].str.replace('\\S*@\\S*\\s?', '').replace('[^a-zA-Z0-9 ]', '') + ' '\n",
        "  df['content'] = df['content'].str.lower()\n",
        "  df['username'] = user\n",
        "  df['followers'] = api.get_user(user).followers_count\n",
        "\n",
        "  dataframes.append(df)\n",
        "\n",
        "data = pd.concat(dataframes)\n",
        "data.drop(data.columns[[0]], axis=1, inplace=True)\n",
        "\n",
        "dataframes = []\n",
        "for i in range(len(chosen_stocks)):\n",
        "  df = data[data.content.str.contains(' ' + chosen_stocks.at[i, 'name'].lower() + ' ')]\n",
        "  df['stock'] = chosen_stocks.at[i, 'ticker']\n",
        "  dataframes.append(df)\n",
        "\n",
        "data = pd.concat(dataframes)\n",
        "data.to_csv(\"tweets.csv\")\n",
        "print(data)"
      ],
      "execution_count": null,
      "outputs": [
        {
          "output_type": "stream",
          "text": [
            "/usr/local/lib/python3.7/dist-packages/ipykernel_launcher.py:1: ParserWarning: Falling back to the 'python' engine because the 'c' engine does not support regex separators (separators > 1 char and different from '\\s+' are interpreted as regex); you can avoid this warning by specifying engine='python'.\n",
            "  \"\"\"Entry point for launching an IPython kernel.\n",
            "/usr/local/lib/python3.7/dist-packages/ipykernel_launcher.py:21: SettingWithCopyWarning: \n",
            "A value is trying to be set on a copy of a slice from a DataFrame.\n",
            "Try using .loc[row_indexer,col_indexer] = value instead\n",
            "\n",
            "See the caveats in the documentation: https://pandas.pydata.org/pandas-docs/stable/user_guide/indexing.html#returning-a-view-versus-a-copy\n",
            "/usr/local/lib/python3.7/dist-packages/pandas/core/strings.py:2001: UserWarning: This pattern has match groups. To actually get the groups, use str.extract.\n",
            "  return func(self, *args, **kwargs)\n"
          ],
          "name": "stderr"
        },
        {
          "output_type": "stream",
          "text": [
            "             date                                            content  \\\n",
            "37071  2019-01-03   novavax shares jump after positive results fo...   \n",
            "29846  2019-03-14   the wildly successful invesco qqq trust has a...   \n",
            "25777  2019-03-10   the invesco qqq trust is now the sixth-larges...   \n",
            "20     2019-12-30   apple stock is rising toward a record even as...   \n",
            "579    2019-12-23   apple iphone demand will soar in 2020 with la...   \n",
            "...           ...                                                ...   \n",
            "1857   2019-09-06   the charts of yum! brands could use a rest be...   \n",
            "13128  2019-05-01   yum! brands $yum reports earnings: \\n- gaap e...   \n",
            "1862   2019-10-23   check out francine lai on talking with about ...   \n",
            "4902   2019-02-15   we have zoetis tonight- and we talk rescue an...   \n",
            "4933   2019-02-14   absolute out- of- body experience for me. at ...   \n",
            "\n",
            "             username  followers stock  \n",
            "37071     MarketWatch    4004317  NVAX  \n",
            "29846     MarketWatch    4004317   QQQ  \n",
            "25777             WSJ   18795687   QQQ  \n",
            "20        MarketWatch    4004317  AAPL  \n",
            "579       MarketWatch    4004317  AAPL  \n",
            "...               ...        ...   ...  \n",
            "1857        jimcramer    1659333   YUM  \n",
            "13128       TheStreet     773025   YUM  \n",
            "1862   GerberKawasaki     142302   ZTS  \n",
            "4902        jimcramer    1659333   ZTS  \n",
            "4933        jimcramer    1659333   ZTS  \n",
            "\n",
            "[86130 rows x 5 columns]\n"
          ],
          "name": "stdout"
        }
      ]
    },
    {
      "cell_type": "markdown",
      "metadata": {
        "id": "qKkuIIjXEVwA"
      },
      "source": [
        "## Applying NLP & Yahoo Finance API"
      ]
    },
    {
      "cell_type": "code",
      "metadata": {
        "colab": {
          "base_uri": "https://localhost:8080/"
        },
        "id": "KzsJ5TsvEh5U",
        "outputId": "345e1250-db9c-40da-e5e8-23fb5eb3ad67"
      },
      "source": [
        "tweets = pd.read_csv('tweets.csv')\n",
        "tweets.drop(tweets.columns[[0]], axis=1, inplace=True)\n",
        "price = pd.read_csv('stock_price.csv')\n",
        "price = price.rename(columns={'Date': 'date', 'Open': 'open', 'High': 'high',\n",
        "                              'Low': 'low', 'Adj Close': 'adjClose', 'Close': 'close', 'Volume': 'volume'})\n",
        "price.drop(price.columns[[0, 9, 10, 11, 12, 13, 14]], axis=1, inplace=True)\n",
        "data = pd.merge(tweets, price, how='left', on=['date', 'stock'])\n",
        "\n",
        "data['compound'] = ''\n",
        "data['negative'] = ''\n",
        "data['neutral'] = ''\n",
        "data['positive'] = ''\n",
        "print(data)"
      ],
      "execution_count": null,
      "outputs": [
        {
          "output_type": "stream",
          "text": [
            "             date                                            content  \\\n",
            "0      2019-01-03   novavax shares jump after positive results fo...   \n",
            "1      2019-03-14   the wildly successful invesco qqq trust has a...   \n",
            "2      2019-03-10   the invesco qqq trust is now the sixth-larges...   \n",
            "3      2019-12-30   apple stock is rising toward a record even as...   \n",
            "4      2019-12-23   apple iphone demand will soar in 2020 with la...   \n",
            "...           ...                                                ...   \n",
            "86125  2019-09-06   the charts of yum! brands could use a rest be...   \n",
            "86126  2019-05-01   yum! brands $yum reports earnings: \\n- gaap e...   \n",
            "86127  2019-10-23   check out francine lai on talking with about ...   \n",
            "86128  2019-02-15   we have zoetis tonight- and we talk rescue an...   \n",
            "86129  2019-02-14   absolute out- of- body experience for me. at ...   \n",
            "\n",
            "             username  followers stock        open        high         low  \\\n",
            "0         MarketWatch    4004317  NVAX   38.599998   42.400002   38.400002   \n",
            "1         MarketWatch    4004317   QQQ  177.130005  177.339996  176.660004   \n",
            "2                 WSJ   18795687   QQQ         NaN         NaN         NaN   \n",
            "3         MarketWatch    4004317  AAPL   72.364998   73.172501   71.305000   \n",
            "4         MarketWatch    4004317  AAPL   70.132500   71.062500   70.092499   \n",
            "...               ...        ...   ...         ...         ...         ...   \n",
            "86125       jimcramer    1659333   YUM  117.989998  119.430000  117.750000   \n",
            "86126       TheStreet     773025   YUM  101.500000  102.750000  100.680000   \n",
            "86127  GerberKawasaki     142302   ZTS  122.550003  123.000000  121.040001   \n",
            "86128       jimcramer    1659333   ZTS   93.919998   95.550003   92.919998   \n",
            "86129       jimcramer    1659333   ZTS   89.010002   93.570000   88.650002   \n",
            "\n",
            "            close    adjClose       volume compound negative neutral positive  \n",
            "0       40.799999   40.799999     485000.0                                     \n",
            "1      176.710007  174.053635   23751500.0                                     \n",
            "2             NaN         NaN          NaN                                     \n",
            "3       72.879997   71.757919  144114400.0                                     \n",
            "4       71.000000   69.906876   98572000.0                                     \n",
            "...           ...         ...          ...      ...      ...     ...      ...  \n",
            "86125  119.209999  115.903099    1669900.0                                     \n",
            "86126  101.940002   98.342590    2178500.0                                     \n",
            "86127  121.800003  120.918793    2831700.0                                     \n",
            "86128   95.370003   94.266235    3308200.0                                     \n",
            "86129   93.260002   92.180664    5438200.0                                     \n",
            "\n",
            "[86130 rows x 15 columns]\n"
          ],
          "name": "stdout"
        }
      ]
    },
    {
      "cell_type": "code",
      "metadata": {
        "colab": {
          "base_uri": "https://localhost:8080/"
        },
        "id": "9E4p-0JKHfgu",
        "outputId": "c45754d1-4911-41e0-a5fc-80aeb7ce1748"
      },
      "source": [
        "for i in data.index:\n",
        "  res = performSentimentAnalysis(data.loc[i, 'content'])\n",
        "  data.at[i, 'compound'] = res['Compound']\n",
        "  data.at[i, 'negative'] = res['Negative']\n",
        "  data.at[i, 'neutral'] = res['Neutral']\n",
        "  data.at[i, 'positive'] = res['Positive']\n",
        "\n",
        "nan_value = float(\"NaN\")\n",
        "data.replace(\"\", nan_value, inplace=True)\n",
        "data.dropna(subset = ['open', 'high', 'low', 'close', 'adjClose', 'volume'], inplace=True)\n",
        "data.to_csv(\"Data.csv\")\n",
        "print(data)"
      ],
      "execution_count": null,
      "outputs": [
        {
          "output_type": "stream",
          "text": [
            "             date                                            content  \\\n",
            "0      2019-01-03   novavax shares jump after positive results fo...   \n",
            "1      2019-03-14   the wildly successful invesco qqq trust has a...   \n",
            "3      2019-12-30   apple stock is rising toward a record even as...   \n",
            "4      2019-12-23   apple iphone demand will soar in 2020 with la...   \n",
            "5      2019-12-20   can you smell what the rock is hawking? apple...   \n",
            "...           ...                                                ...   \n",
            "86125  2019-09-06   the charts of yum! brands could use a rest be...   \n",
            "86126  2019-05-01   yum! brands $yum reports earnings: \\n- gaap e...   \n",
            "86127  2019-10-23   check out francine lai on talking with about ...   \n",
            "86128  2019-02-15   we have zoetis tonight- and we talk rescue an...   \n",
            "86129  2019-02-14   absolute out- of- body experience for me. at ...   \n",
            "\n",
            "             username  followers stock        open        high         low  \\\n",
            "0         MarketWatch    4004317  NVAX   38.599998   42.400002   38.400002   \n",
            "1         MarketWatch    4004317   QQQ  177.130005  177.339996  176.660004   \n",
            "3         MarketWatch    4004317  AAPL   72.364998   73.172501   71.305000   \n",
            "4         MarketWatch    4004317  AAPL   70.132500   71.062500   70.092499   \n",
            "5         MarketWatch    4004317  AAPL   70.557503   70.662498   69.639999   \n",
            "...               ...        ...   ...         ...         ...         ...   \n",
            "86125       jimcramer    1659333   YUM  117.989998  119.430000  117.750000   \n",
            "86126       TheStreet     773025   YUM  101.500000  102.750000  100.680000   \n",
            "86127  GerberKawasaki     142302   ZTS  122.550003  123.000000  121.040001   \n",
            "86128       jimcramer    1659333   ZTS   93.919998   95.550003   92.919998   \n",
            "86129       jimcramer    1659333   ZTS   89.010002   93.570000   88.650002   \n",
            "\n",
            "            close    adjClose       volume  compound  negative  neutral  \\\n",
            "0       40.799999   40.799999     485000.0    0.4939     0.169    0.455   \n",
            "1      176.710007  174.053635   23751500.0    0.8750     0.000    0.583   \n",
            "3       72.879997   71.757919  144114400.0    0.0000     0.000    1.000   \n",
            "4       71.000000   69.906876   98572000.0   -0.1280     0.103    0.897   \n",
            "5       69.860001   68.784424  275978000.0    0.0000     0.000    1.000   \n",
            "...           ...         ...          ...       ...       ...      ...   \n",
            "86125  119.209999  115.903099    1669900.0    0.0000     0.000    1.000   \n",
            "86126  101.940002   98.342590    2178500.0    0.6800     0.000    0.752   \n",
            "86127  121.800003  120.918793    2831700.0    0.2732     0.000    0.928   \n",
            "86128   95.370003   94.266235    3308200.0    0.5106     0.000    0.732   \n",
            "86129   93.260002   92.180664    5438200.0    0.3612     0.000    0.865   \n",
            "\n",
            "       positive  \n",
            "0         0.377  \n",
            "1         0.417  \n",
            "3         0.000  \n",
            "4         0.000  \n",
            "5         0.000  \n",
            "...         ...  \n",
            "86125     0.000  \n",
            "86126     0.248  \n",
            "86127     0.072  \n",
            "86128     0.268  \n",
            "86129     0.135  \n",
            "\n",
            "[69980 rows x 15 columns]\n"
          ],
          "name": "stdout"
        }
      ]
    },
    {
      "cell_type": "markdown",
      "metadata": {
        "id": "kfsTgxfETuFW"
      },
      "source": [
        "## Analysis"
      ]
    },
    {
      "cell_type": "code",
      "metadata": {
        "id": "v6m9FwbLT1Hf",
        "colab": {
          "base_uri": "https://localhost:8080/"
        },
        "outputId": "d2853d26-81ab-4f9f-a677-099ffd208cfb"
      },
      "source": [
        "dataset = pd.read_csv('Data.csv')\n",
        "followers = dataset.pop('followers')\n",
        "dataset = dataset.sort_values(by='date')  # Maintain order of date for training in q1, q2 and testing in q3\n",
        "dataset['followers'] = followers\n",
        "dataset['delta'] = dataset['close'] - dataset['open']\n",
        "for col in dataset.columns:\n",
        "  if col not in ['followers', 'stock', 'compound', 'delta']:\n",
        "    del dataset[col]\n",
        "\n",
        "print(dataset)"
      ],
      "execution_count": null,
      "outputs": [
        {
          "output_type": "stream",
          "text": [
            "      stock  compound  followers     delta\n",
            "332    AAPL    0.2960    4004317  0.757500\n",
            "50435   USB   -0.5859   18795687  1.129997\n",
            "50436   USB   -0.2500   18795687  1.129997\n",
            "38406   USB    0.6808    4004317  1.129997\n",
            "38407   USB   -0.6249    4004317  1.129997\n",
            "...     ...       ...        ...       ...\n",
            "52339   USB   -0.2960   23336191 -0.390003\n",
            "52338   USB   -0.6808   23336191 -0.390003\n",
            "52337   USB   -0.4404   23336191 -0.390003\n",
            "35596   TGT   -0.3612   23336191 -0.110001\n",
            "35594   TGT    0.0000   23336191 -0.110001\n",
            "\n",
            "[69980 rows x 4 columns]\n"
          ],
          "name": "stdout"
        }
      ]
    },
    {
      "cell_type": "code",
      "metadata": {
        "colab": {
          "base_uri": "https://localhost:8080/"
        },
        "id": "j3WHdGK_Vhpw",
        "outputId": "f6e91738-c051-42f6-d357-75a7926f9eb1"
      },
      "source": [
        "q1 = dataset.apply(lambda x: True if x['compound'] >= 0.05 and x['delta'] > 0 else False , axis=1)\n",
        "print(len(q1[q1 == True].index))\n",
        "\n",
        "q2 = dataset.apply(lambda x: True if x['compound'] >= 0.05 and x['delta'] < 0 else False , axis=1)\n",
        "print(len(q2[q2 == True].index))"
      ],
      "execution_count": null,
      "outputs": [
        {
          "output_type": "stream",
          "text": [
            "13580\n",
            "11812\n"
          ],
          "name": "stdout"
        }
      ]
    },
    {
      "cell_type": "code",
      "metadata": {
        "colab": {
          "base_uri": "https://localhost:8080/"
        },
        "id": "i4VWIXwbOR5S",
        "outputId": "b5b0468c-f6df-4a07-81d2-502dd346dd31"
      },
      "source": [
        "import category_encoders as ce\n",
        "# encoder = ce.OneHotEncoder(cols='stock', handle_unknown='return_nan', return_df=True, use_cat_names=True)\n",
        "encoder = ce.OrdinalEncoder(cols=['stock'])\n",
        "dataset = encoder.fit_transform(dataset)"
      ],
      "execution_count": null,
      "outputs": [
        {
          "output_type": "stream",
          "text": [
            "/usr/local/lib/python3.7/dist-packages/category_encoders/utils.py:21: FutureWarning: is_categorical is deprecated and will be removed in a future version.  Use is_categorical_dtype instead\n",
            "  elif pd.api.types.is_categorical(cols):\n"
          ],
          "name": "stderr"
        }
      ]
    },
    {
      "cell_type": "code",
      "metadata": {
        "id": "KWCwSGUhOPzF"
      },
      "source": [
        "X = dataset.iloc[:, :-1].values\n",
        "y = dataset.iloc[:, -1].values"
      ],
      "execution_count": null,
      "outputs": []
    },
    {
      "cell_type": "code",
      "metadata": {
        "colab": {
          "base_uri": "https://localhost:8080/",
          "height": 314
        },
        "id": "mHRP3uorJueO",
        "outputId": "7905742f-0e21-419e-9f3d-9d0f63c11abd"
      },
      "source": [
        "pos, neg, neu = 0, 0, 0\n",
        "for i in range(0, len(dataset)):\n",
        "  get_val = dataset.compound[i]\n",
        "  if (float(get_val) <= -0.05):\n",
        "    neg = neg + 1\n",
        "  elif (float(get_val) >= 0.05):\n",
        "    pos = pos + 1\n",
        "  else:\n",
        "    neu = neu + 1\n",
        "\n",
        "pos_v = (pos / len(dataset)) * 100\n",
        "neg_v = (neg / len(dataset)) * 100\n",
        "neu_v = (neu / len(dataset)) * 100\n",
        "print(\"% of positive tweets= \", pos_v)\n",
        "print(\"% of negative tweets= \", neg_v)\n",
        "print(\"% of neutral tweets= \", neu_v)\n",
        "arr = np.asarray([pos_v, neg_v, neu_v], dtype=int)\n",
        "mlpt.pie(arr, labels=['positive', 'negative', 'neutral'])\n",
        "mlpt.plot()"
      ],
      "execution_count": null,
      "outputs": [
        {
          "output_type": "stream",
          "text": [
            "% of positive tweets=  36.49757073449557\n",
            "% of negative tweets=  31.260360102886537\n",
            "% of neutral tweets=  32.242069162617895\n"
          ],
          "name": "stdout"
        },
        {
          "output_type": "execute_result",
          "data": {
            "text/plain": [
              "[]"
            ]
          },
          "metadata": {
            "tags": []
          },
          "execution_count": 46
        },
        {
          "output_type": "display_data",
          "data": {
            "image/png": "[encoded data removed]",
            "text/plain": [
              "<Figure size 432x288 with 1 Axes>"
            ]
          },
          "metadata": {
            "tags": []
          }
        }
      ]
    },
    {
      "cell_type": "code",
      "metadata": {
        "colab": {
          "base_uri": "https://localhost:8080/"
        },
        "id": "izGX6SZtvlJ7",
        "outputId": "c8c7e650-e386-4511-efaf-9b018f709bca"
      },
      "source": [
        "print(dataset['delta'].max())\n",
        "print(dataset['followers'].max())"
      ],
      "execution_count": null,
      "outputs": [
        {
          "output_type": "stream",
          "text": [
            "73.93005399999993\n",
            "49804251\n"
          ],
          "name": "stdout"
        }
      ]
    },
    {
      "cell_type": "code",
      "metadata": {
        "colab": {
          "base_uri": "https://localhost:8080/"
        },
        "id": "dZA4YizsQX0k",
        "outputId": "aebdb0a1-5564-419f-eb75-a0743db847c0"
      },
      "source": [
        "print(X)"
      ],
      "execution_count": null,
      "outputs": [
        {
          "output_type": "stream",
          "text": [
            "[[ 1.0000000e+00  2.9600000e-01  4.0043170e+06]\n",
            " [ 2.0000000e+00 -5.8590000e-01  1.8795687e+07]\n",
            " [ 2.0000000e+00 -2.5000000e-01  1.8795687e+07]\n",
            " ...\n",
            " [ 2.0000000e+00 -4.4040000e-01  2.3336191e+07]\n",
            " [ 5.0000000e+00 -3.6120000e-01  2.3336191e+07]\n",
            " [ 5.0000000e+00  0.0000000e+00  2.3336191e+07]]\n"
          ],
          "name": "stdout"
        }
      ]
    },
    {
      "cell_type": "code",
      "metadata": {
        "colab": {
          "base_uri": "https://localhost:8080/"
        },
        "id": "7WKM2le-QZw4",
        "outputId": "8de8635c-8307-4631-ca26-99aadc06508d"
      },
      "source": [
        "print(y)"
      ],
      "execution_count": null,
      "outputs": [
        {
          "output_type": "stream",
          "text": [
            "[ 0.7575    1.129997  1.129997 ... -0.390003 -0.110001 -0.110001]\n"
          ],
          "name": "stdout"
        }
      ]
    },
    {
      "cell_type": "code",
      "metadata": {
        "colab": {
          "base_uri": "https://localhost:8080/"
        },
        "id": "hhekpqnxmjGE",
        "outputId": "3ee7f929-f528-4b38-b4f8-2b5b69e7d400"
      },
      "source": [
        "from sklearn.model_selection import train_test_split\n",
        "X_train, X_test, y_train, y_test = train_test_split(X, y, test_size = 0.33, random_state = 1, shuffle=False)\n",
        "print(X_train)"
      ],
      "execution_count": null,
      "outputs": [
        {
          "output_type": "stream",
          "text": [
            "[[ 1.0000000e+00  2.9600000e-01  4.0043170e+06]\n",
            " [ 2.0000000e+00 -5.8590000e-01  1.8795687e+07]\n",
            " [ 2.0000000e+00 -2.5000000e-01  1.8795687e+07]\n",
            " ...\n",
            " [ 1.0000000e+01 -5.8590000e-01  4.9804251e+07]\n",
            " [ 2.0000000e+00  0.0000000e+00  2.3336191e+07]\n",
            " [ 2.0000000e+00  0.0000000e+00  2.3336191e+07]]\n"
          ],
          "name": "stdout"
        }
      ]
    },
    {
      "cell_type": "code",
      "metadata": {
        "colab": {
          "base_uri": "https://localhost:8080/"
        },
        "id": "-Bu-v-62qPGs",
        "outputId": "0c83c95b-5fce-4619-cd7f-05af2b07bec3"
      },
      "source": [
        "print(X_test)"
      ],
      "execution_count": null,
      "outputs": [
        {
          "output_type": "stream",
          "text": [
            "[[ 2.0000000e+00 -7.5790000e-01  2.3336191e+07]\n",
            " [ 2.0000000e+00 -2.7320000e-01  2.3336191e+07]\n",
            " [ 2.0000000e+00  0.0000000e+00  2.3336191e+07]\n",
            " ...\n",
            " [ 2.0000000e+00 -4.4040000e-01  2.3336191e+07]\n",
            " [ 5.0000000e+00 -3.6120000e-01  2.3336191e+07]\n",
            " [ 5.0000000e+00  0.0000000e+00  2.3336191e+07]]\n"
          ],
          "name": "stdout"
        }
      ]
    },
    {
      "cell_type": "code",
      "metadata": {
        "colab": {
          "base_uri": "https://localhost:8080/"
        },
        "id": "k4flFyAXthoE",
        "outputId": "a1dd49ce-54e3-49df-dd4b-1819f85a01f1"
      },
      "source": [
        "print(X_train.shape)\n",
        "print(X_test.shape)"
      ],
      "execution_count": null,
      "outputs": [
        {
          "output_type": "stream",
          "text": [
            "(46886, 3)\n",
            "(23094, 3)\n"
          ],
          "name": "stdout"
        }
      ]
    },
    {
      "cell_type": "code",
      "metadata": {
        "colab": {
          "base_uri": "https://localhost:8080/"
        },
        "id": "CPnD9nn8wSX0",
        "outputId": "982d6ad5-9100-4a6f-8beb-9b0c8c23ccc3"
      },
      "source": [
        "print(y_train)"
      ],
      "execution_count": null,
      "outputs": [
        {
          "output_type": "stream",
          "text": [
            "[0.7575   1.129997 1.129997 ... 9.25     0.780003 0.780003]\n"
          ],
          "name": "stdout"
        }
      ]
    }
  ]
}